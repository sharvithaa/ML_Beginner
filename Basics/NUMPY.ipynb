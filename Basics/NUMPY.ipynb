{
  "nbformat": 4,
  "nbformat_minor": 0,
  "metadata": {
    "colab": {
      "provenance": [],
      "authorship_tag": "ABX9TyPumeWNhtoDV5K5rFx33Eec",
      "include_colab_link": true
    },
    "kernelspec": {
      "name": "python3",
      "display_name": "Python 3"
    },
    "language_info": {
      "name": "python"
    }
  },
  "cells": [
    {
      "cell_type": "markdown",
      "metadata": {
        "id": "view-in-github",
        "colab_type": "text"
      },
      "source": [
        "<a href=\"https://colab.research.google.com/github/sharvithaa/MLpraticeBYTS/blob/main/NUMPY.ipynb\" target=\"_parent\"><img src=\"https://colab.research.google.com/assets/colab-badge.svg\" alt=\"Open In Colab\"/></a>"
      ]
    },
    {
      "cell_type": "code",
      "execution_count": null,
      "metadata": {
        "colab": {
          "base_uri": "https://localhost:8080/"
        },
        "id": "GUaKQ4-pN0gh",
        "outputId": "65e650fb-6022-4a64-d511-82d63cbe820a"
      },
      "outputs": [
        {
          "output_type": "stream",
          "name": "stdout",
          "text": [
            "[1, 2, 3, 4, 5, 6, 10]\n"
          ]
        }
      ],
      "source": [
        "l1=[1,2,3,4,5,6]\n",
        "l1.append(10)\n",
        "print(l1)"
      ]
    },
    {
      "cell_type": "code",
      "source": [
        "l1.extend([11,12])\n",
        "print(l1)"
      ],
      "metadata": {
        "colab": {
          "base_uri": "https://localhost:8080/"
        },
        "id": "uQ2YDnekb5-I",
        "outputId": "abf36d80-0258-4db0-8c0c-1b426481c705"
      },
      "execution_count": null,
      "outputs": [
        {
          "output_type": "stream",
          "name": "stdout",
          "text": [
            "[1, 2, 3, 4, 5, 6, 10, 11, 12]\n"
          ]
        }
      ]
    },
    {
      "cell_type": "code",
      "source": [
        "l1.pop(2)"
      ],
      "metadata": {
        "colab": {
          "base_uri": "https://localhost:8080/"
        },
        "id": "h4ZAWeAZcEt0",
        "outputId": "79c44c73-ea36-4e84-93b1-96bd8991dd7f"
      },
      "execution_count": null,
      "outputs": [
        {
          "output_type": "execute_result",
          "data": {
            "text/plain": [
              "3"
            ]
          },
          "metadata": {},
          "execution_count": 12
        }
      ]
    },
    {
      "cell_type": "code",
      "source": [
        "l1.remove(2)\n",
        "l1"
      ],
      "metadata": {
        "colab": {
          "base_uri": "https://localhost:8080/"
        },
        "id": "f5wqNVPVcKrr",
        "outputId": "6f7d70ce-d937-41e1-a59f-014447fc16c9"
      },
      "execution_count": null,
      "outputs": [
        {
          "output_type": "execute_result",
          "data": {
            "text/plain": [
              "[1, 4, 5, 6, 10, 11, 12]"
            ]
          },
          "metadata": {},
          "execution_count": 13
        }
      ]
    },
    {
      "cell_type": "code",
      "source": [
        "#del l1\n",
        "#l1\n"
      ],
      "metadata": {
        "id": "Y2-dapfFclOT"
      },
      "execution_count": null,
      "outputs": []
    },
    {
      "cell_type": "code",
      "source": [
        "l1=[1,2,3,4,5,6]\n",
        "l1.insert(2,5)\n",
        "l1"
      ],
      "metadata": {
        "colab": {
          "base_uri": "https://localhost:8080/"
        },
        "id": "WoxWjRgBctU3",
        "outputId": "8ffbf21d-762b-47c2-8ed8-fa1eb92bd325"
      },
      "execution_count": null,
      "outputs": [
        {
          "output_type": "execute_result",
          "data": {
            "text/plain": [
              "[1, 2, 5, 3, 4, 5, 6]"
            ]
          },
          "metadata": {},
          "execution_count": 15
        }
      ]
    },
    {
      "cell_type": "code",
      "source": [
        "import numpy as np\n",
        "l=[[1,2],[3,4],[5]]\n",
        "arr1=np.array(l)\n",
        "arr1.shape\n",
        "l1=[[1,2],[3,4]]\n",
        "arr2=np.array(l1)\n",
        "arr2.shape"
      ],
      "metadata": {
        "colab": {
          "base_uri": "https://localhost:8080/"
        },
        "id": "IBxtzJeJdD6_",
        "outputId": "778b3037-c04d-4740-c5af-76bf6dde9e1f"
      },
      "execution_count": null,
      "outputs": [
        {
          "output_type": "stream",
          "name": "stderr",
          "text": [
            "<ipython-input-16-aaf0f878c200>:3: VisibleDeprecationWarning: Creating an ndarray from ragged nested sequences (which is a list-or-tuple of lists-or-tuples-or ndarrays with different lengths or shapes) is deprecated. If you meant to do this, you must specify 'dtype=object' when creating the ndarray.\n",
            "  arr1=np.array(l)\n"
          ]
        },
        {
          "output_type": "execute_result",
          "data": {
            "text/plain": [
              "(2, 2)"
            ]
          },
          "metadata": {},
          "execution_count": 16
        }
      ]
    },
    {
      "cell_type": "code",
      "source": [
        "l3=np.arange(5,12,2)\n",
        "\n",
        "l3"
      ],
      "metadata": {
        "colab": {
          "base_uri": "https://localhost:8080/"
        },
        "id": "o4gnyiJHeAGc",
        "outputId": "da65f4f5-56c4-4521-dced-f0e45505b70c"
      },
      "execution_count": null,
      "outputs": [
        {
          "output_type": "execute_result",
          "data": {
            "text/plain": [
              "array([ 5,  7,  9, 11])"
            ]
          },
          "metadata": {},
          "execution_count": 17
        }
      ]
    },
    {
      "cell_type": "code",
      "source": [
        "a=np.array([1,2,3,4],dtype=np.float64)  #to forcefully change datatype\n",
        "a"
      ],
      "metadata": {
        "colab": {
          "base_uri": "https://localhost:8080/"
        },
        "id": "VG-SodRHeJC5",
        "outputId": "ba4a129f-df9c-44d8-905e-a8435def53b8"
      },
      "execution_count": null,
      "outputs": [
        {
          "output_type": "execute_result",
          "data": {
            "text/plain": [
              "array([1., 2., 3., 4.])"
            ]
          },
          "metadata": {},
          "execution_count": 18
        }
      ]
    },
    {
      "cell_type": "code",
      "source": [
        "type(a)"
      ],
      "metadata": {
        "colab": {
          "base_uri": "https://localhost:8080/"
        },
        "id": "943WyPUTekD0",
        "outputId": "b00c701d-b756-45ba-b8e7-3c7b7d97fc8d"
      },
      "execution_count": null,
      "outputs": [
        {
          "output_type": "execute_result",
          "data": {
            "text/plain": [
              "numpy.ndarray"
            ]
          },
          "metadata": {},
          "execution_count": 19
        }
      ]
    },
    {
      "cell_type": "code",
      "source": [
        "print(np.ones(5))\n",
        "print(np.ones((3,2)))\n",
        "print(np.ones((2,3,4)))\n",
        "print(np.ones((2,3,4,5,6)))"
      ],
      "metadata": {
        "colab": {
          "base_uri": "https://localhost:8080/"
        },
        "id": "rfKI72P8e5ZH",
        "outputId": "86dec1a2-8957-440c-e88a-f32549c6a4f5"
      },
      "execution_count": null,
      "outputs": [
        {
          "output_type": "stream",
          "name": "stdout",
          "text": [
            "[1. 1. 1. 1. 1.]\n",
            "[[1. 1.]\n",
            " [1. 1.]\n",
            " [1. 1.]]\n",
            "[[[1. 1. 1. 1.]\n",
            "  [1. 1. 1. 1.]\n",
            "  [1. 1. 1. 1.]]\n",
            "\n",
            " [[1. 1. 1. 1.]\n",
            "  [1. 1. 1. 1.]\n",
            "  [1. 1. 1. 1.]]]\n",
            "[[[[[1. 1. 1. 1. 1. 1.]\n",
            "    [1. 1. 1. 1. 1. 1.]\n",
            "    [1. 1. 1. 1. 1. 1.]\n",
            "    [1. 1. 1. 1. 1. 1.]\n",
            "    [1. 1. 1. 1. 1. 1.]]\n",
            "\n",
            "   [[1. 1. 1. 1. 1. 1.]\n",
            "    [1. 1. 1. 1. 1. 1.]\n",
            "    [1. 1. 1. 1. 1. 1.]\n",
            "    [1. 1. 1. 1. 1. 1.]\n",
            "    [1. 1. 1. 1. 1. 1.]]\n",
            "\n",
            "   [[1. 1. 1. 1. 1. 1.]\n",
            "    [1. 1. 1. 1. 1. 1.]\n",
            "    [1. 1. 1. 1. 1. 1.]\n",
            "    [1. 1. 1. 1. 1. 1.]\n",
            "    [1. 1. 1. 1. 1. 1.]]\n",
            "\n",
            "   [[1. 1. 1. 1. 1. 1.]\n",
            "    [1. 1. 1. 1. 1. 1.]\n",
            "    [1. 1. 1. 1. 1. 1.]\n",
            "    [1. 1. 1. 1. 1. 1.]\n",
            "    [1. 1. 1. 1. 1. 1.]]]\n",
            "\n",
            "\n",
            "  [[[1. 1. 1. 1. 1. 1.]\n",
            "    [1. 1. 1. 1. 1. 1.]\n",
            "    [1. 1. 1. 1. 1. 1.]\n",
            "    [1. 1. 1. 1. 1. 1.]\n",
            "    [1. 1. 1. 1. 1. 1.]]\n",
            "\n",
            "   [[1. 1. 1. 1. 1. 1.]\n",
            "    [1. 1. 1. 1. 1. 1.]\n",
            "    [1. 1. 1. 1. 1. 1.]\n",
            "    [1. 1. 1. 1. 1. 1.]\n",
            "    [1. 1. 1. 1. 1. 1.]]\n",
            "\n",
            "   [[1. 1. 1. 1. 1. 1.]\n",
            "    [1. 1. 1. 1. 1. 1.]\n",
            "    [1. 1. 1. 1. 1. 1.]\n",
            "    [1. 1. 1. 1. 1. 1.]\n",
            "    [1. 1. 1. 1. 1. 1.]]\n",
            "\n",
            "   [[1. 1. 1. 1. 1. 1.]\n",
            "    [1. 1. 1. 1. 1. 1.]\n",
            "    [1. 1. 1. 1. 1. 1.]\n",
            "    [1. 1. 1. 1. 1. 1.]\n",
            "    [1. 1. 1. 1. 1. 1.]]]\n",
            "\n",
            "\n",
            "  [[[1. 1. 1. 1. 1. 1.]\n",
            "    [1. 1. 1. 1. 1. 1.]\n",
            "    [1. 1. 1. 1. 1. 1.]\n",
            "    [1. 1. 1. 1. 1. 1.]\n",
            "    [1. 1. 1. 1. 1. 1.]]\n",
            "\n",
            "   [[1. 1. 1. 1. 1. 1.]\n",
            "    [1. 1. 1. 1. 1. 1.]\n",
            "    [1. 1. 1. 1. 1. 1.]\n",
            "    [1. 1. 1. 1. 1. 1.]\n",
            "    [1. 1. 1. 1. 1. 1.]]\n",
            "\n",
            "   [[1. 1. 1. 1. 1. 1.]\n",
            "    [1. 1. 1. 1. 1. 1.]\n",
            "    [1. 1. 1. 1. 1. 1.]\n",
            "    [1. 1. 1. 1. 1. 1.]\n",
            "    [1. 1. 1. 1. 1. 1.]]\n",
            "\n",
            "   [[1. 1. 1. 1. 1. 1.]\n",
            "    [1. 1. 1. 1. 1. 1.]\n",
            "    [1. 1. 1. 1. 1. 1.]\n",
            "    [1. 1. 1. 1. 1. 1.]\n",
            "    [1. 1. 1. 1. 1. 1.]]]]\n",
            "\n",
            "\n",
            "\n",
            " [[[[1. 1. 1. 1. 1. 1.]\n",
            "    [1. 1. 1. 1. 1. 1.]\n",
            "    [1. 1. 1. 1. 1. 1.]\n",
            "    [1. 1. 1. 1. 1. 1.]\n",
            "    [1. 1. 1. 1. 1. 1.]]\n",
            "\n",
            "   [[1. 1. 1. 1. 1. 1.]\n",
            "    [1. 1. 1. 1. 1. 1.]\n",
            "    [1. 1. 1. 1. 1. 1.]\n",
            "    [1. 1. 1. 1. 1. 1.]\n",
            "    [1. 1. 1. 1. 1. 1.]]\n",
            "\n",
            "   [[1. 1. 1. 1. 1. 1.]\n",
            "    [1. 1. 1. 1. 1. 1.]\n",
            "    [1. 1. 1. 1. 1. 1.]\n",
            "    [1. 1. 1. 1. 1. 1.]\n",
            "    [1. 1. 1. 1. 1. 1.]]\n",
            "\n",
            "   [[1. 1. 1. 1. 1. 1.]\n",
            "    [1. 1. 1. 1. 1. 1.]\n",
            "    [1. 1. 1. 1. 1. 1.]\n",
            "    [1. 1. 1. 1. 1. 1.]\n",
            "    [1. 1. 1. 1. 1. 1.]]]\n",
            "\n",
            "\n",
            "  [[[1. 1. 1. 1. 1. 1.]\n",
            "    [1. 1. 1. 1. 1. 1.]\n",
            "    [1. 1. 1. 1. 1. 1.]\n",
            "    [1. 1. 1. 1. 1. 1.]\n",
            "    [1. 1. 1. 1. 1. 1.]]\n",
            "\n",
            "   [[1. 1. 1. 1. 1. 1.]\n",
            "    [1. 1. 1. 1. 1. 1.]\n",
            "    [1. 1. 1. 1. 1. 1.]\n",
            "    [1. 1. 1. 1. 1. 1.]\n",
            "    [1. 1. 1. 1. 1. 1.]]\n",
            "\n",
            "   [[1. 1. 1. 1. 1. 1.]\n",
            "    [1. 1. 1. 1. 1. 1.]\n",
            "    [1. 1. 1. 1. 1. 1.]\n",
            "    [1. 1. 1. 1. 1. 1.]\n",
            "    [1. 1. 1. 1. 1. 1.]]\n",
            "\n",
            "   [[1. 1. 1. 1. 1. 1.]\n",
            "    [1. 1. 1. 1. 1. 1.]\n",
            "    [1. 1. 1. 1. 1. 1.]\n",
            "    [1. 1. 1. 1. 1. 1.]\n",
            "    [1. 1. 1. 1. 1. 1.]]]\n",
            "\n",
            "\n",
            "  [[[1. 1. 1. 1. 1. 1.]\n",
            "    [1. 1. 1. 1. 1. 1.]\n",
            "    [1. 1. 1. 1. 1. 1.]\n",
            "    [1. 1. 1. 1. 1. 1.]\n",
            "    [1. 1. 1. 1. 1. 1.]]\n",
            "\n",
            "   [[1. 1. 1. 1. 1. 1.]\n",
            "    [1. 1. 1. 1. 1. 1.]\n",
            "    [1. 1. 1. 1. 1. 1.]\n",
            "    [1. 1. 1. 1. 1. 1.]\n",
            "    [1. 1. 1. 1. 1. 1.]]\n",
            "\n",
            "   [[1. 1. 1. 1. 1. 1.]\n",
            "    [1. 1. 1. 1. 1. 1.]\n",
            "    [1. 1. 1. 1. 1. 1.]\n",
            "    [1. 1. 1. 1. 1. 1.]\n",
            "    [1. 1. 1. 1. 1. 1.]]\n",
            "\n",
            "   [[1. 1. 1. 1. 1. 1.]\n",
            "    [1. 1. 1. 1. 1. 1.]\n",
            "    [1. 1. 1. 1. 1. 1.]\n",
            "    [1. 1. 1. 1. 1. 1.]\n",
            "    [1. 1. 1. 1. 1. 1.]]]]]\n"
          ]
        }
      ]
    },
    {
      "cell_type": "code",
      "source": [
        "np.zeros(5)"
      ],
      "metadata": {
        "colab": {
          "base_uri": "https://localhost:8080/"
        },
        "id": "aa1uqjD1fNSQ",
        "outputId": "421f8aa1-2440-4aa3-d3ef-02c2b049ebb4"
      },
      "execution_count": null,
      "outputs": [
        {
          "output_type": "execute_result",
          "data": {
            "text/plain": [
              "array([0., 0., 0., 0., 0.])"
            ]
          },
          "metadata": {},
          "execution_count": 21
        }
      ]
    },
    {
      "cell_type": "code",
      "source": [
        "print(np.random.random(5)) #from 0 to 1\n",
        "np.random.randint(2,100)"
      ],
      "metadata": {
        "colab": {
          "base_uri": "https://localhost:8080/"
        },
        "id": "v5LFENJzfQpw",
        "outputId": "52453765-44d5-45ba-a1c6-8e4456bcb48c"
      },
      "execution_count": null,
      "outputs": [
        {
          "output_type": "stream",
          "name": "stdout",
          "text": [
            "[0.00527611 0.32459664 0.55310768 0.26367122 0.89946468]\n"
          ]
        },
        {
          "output_type": "execute_result",
          "data": {
            "text/plain": [
              "67"
            ]
          },
          "metadata": {},
          "execution_count": 22
        }
      ]
    },
    {
      "cell_type": "code",
      "source": [
        "np.full((2,2),10)\n"
      ],
      "metadata": {
        "colab": {
          "base_uri": "https://localhost:8080/"
        },
        "id": "dOWsnH5lfYZJ",
        "outputId": "bb65381c-7569-4010-c06f-e0d9518b9bdc"
      },
      "execution_count": null,
      "outputs": [
        {
          "output_type": "execute_result",
          "data": {
            "text/plain": [
              "array([[10, 10],\n",
              "       [10, 10]])"
            ]
          },
          "metadata": {},
          "execution_count": 23
        }
      ]
    },
    {
      "cell_type": "code",
      "source": [
        "np.eye(2) #identity matrix"
      ],
      "metadata": {
        "colab": {
          "base_uri": "https://localhost:8080/"
        },
        "id": "U9EVJu3egZQX",
        "outputId": "51969205-a37b-4d32-a98f-20cecaa73d1a"
      },
      "execution_count": null,
      "outputs": [
        {
          "output_type": "execute_result",
          "data": {
            "text/plain": [
              "array([[1., 0.],\n",
              "       [0., 1.]])"
            ]
          },
          "metadata": {},
          "execution_count": 24
        }
      ]
    },
    {
      "cell_type": "code",
      "source": [
        "np.linspace(0.,1.,num=5)  #like arange() with no of elements needed and decimal eg 0 to 1 la 5 times split agum"
      ],
      "metadata": {
        "colab": {
          "base_uri": "https://localhost:8080/"
        },
        "id": "mqfy26c-gdAj",
        "outputId": "a0e75f82-e932-44d5-e8d7-f085ca399932"
      },
      "execution_count": null,
      "outputs": [
        {
          "output_type": "execute_result",
          "data": {
            "text/plain": [
              "array([0.  , 0.25, 0.5 , 0.75, 1.  ])"
            ]
          },
          "metadata": {},
          "execution_count": 25
        }
      ]
    },
    {
      "cell_type": "code",
      "source": [
        "a2=np.array([[1,2],[3,4],[5,6]])\n",
        "print(a2[0][1])\n",
        "print(a2[1:3,0]) #slicing lowerlimit included upperlimit excluded\n",
        "print(a2[1:3,1])\n"
      ],
      "metadata": {
        "colab": {
          "base_uri": "https://localhost:8080/"
        },
        "id": "leebRX3fg4pU",
        "outputId": "ddb810fa-046d-4884-dc5b-74a093a14b28"
      },
      "execution_count": null,
      "outputs": [
        {
          "output_type": "stream",
          "name": "stdout",
          "text": [
            "2\n",
            "[3 5]\n",
            "[4 6]\n"
          ]
        }
      ]
    },
    {
      "cell_type": "code",
      "source": [
        "a3=np.array([[1,2,3,4],[5,6,7,8],[9,10,11,12]])\n",
        "a3.shape\n",
        "print(a3[:2,1:3])\n"
      ],
      "metadata": {
        "colab": {
          "base_uri": "https://localhost:8080/"
        },
        "id": "9w39ayuridWv",
        "outputId": "cbe64fa2-0fa6-4f3e-8a1d-972bdea6980c"
      },
      "execution_count": null,
      "outputs": [
        {
          "output_type": "stream",
          "name": "stdout",
          "text": [
            "[[2 3]\n",
            " [6 7]]\n"
          ]
        }
      ]
    },
    {
      "cell_type": "code",
      "source": [
        "print(a3[1,:],a3[1,:].shape)\n",
        "print(a3[1:2 ,:],a3[1:2 ,:].shape)"
      ],
      "metadata": {
        "colab": {
          "base_uri": "https://localhost:8080/"
        },
        "id": "44nsqaLXlQ3z",
        "outputId": "d6f66582-de59-42ba-f651-b4fac586e637"
      },
      "execution_count": null,
      "outputs": [
        {
          "output_type": "stream",
          "name": "stdout",
          "text": [
            "[5 6 7 8] (4,)\n",
            "[[5 6 7 8]] (1, 4)\n"
          ]
        }
      ]
    },
    {
      "cell_type": "code",
      "source": [
        "print(a3[:,1])\n",
        "print(a3[:,1:2])"
      ],
      "metadata": {
        "colab": {
          "base_uri": "https://localhost:8080/"
        },
        "id": "BpDutPNfmb_g",
        "outputId": "6838581a-ea29-4a41-b840-0d896cb3e13b"
      },
      "execution_count": null,
      "outputs": [
        {
          "output_type": "stream",
          "name": "stdout",
          "text": [
            "[ 2  6 10]\n",
            "[[ 2]\n",
            " [ 6]\n",
            " [10]]\n"
          ]
        }
      ]
    },
    {
      "cell_type": "code",
      "source": [
        "a4=np.array([[1,2,3,4],[5,6,7,8],[9,10,11,12],[13,14,15,16]])\n",
        "b=np.array([0,1,2,3])\n",
        "print(a4[np.arange(4),b])\n",
        "#b1=(a4[np.arange(4),b] )+=10\n",
        "#print(b1)"
      ],
      "metadata": {
        "colab": {
          "base_uri": "https://localhost:8080/"
        },
        "id": "JsLfznb_7kBb",
        "outputId": "249bf9e7-220c-48ba-d229-dd943d86f395"
      },
      "execution_count": null,
      "outputs": [
        {
          "output_type": "stream",
          "name": "stdout",
          "text": [
            "[ 1  6 11 16]\n"
          ]
        }
      ]
    },
    {
      "cell_type": "code",
      "source": [
        "bool_idx=(a4>2)\n",
        "bool_idx"
      ],
      "metadata": {
        "colab": {
          "base_uri": "https://localhost:8080/"
        },
        "id": "U6NClqgf9g8O",
        "outputId": "bc124e67-f340-4a9f-bcae-17e00853a3a9"
      },
      "execution_count": null,
      "outputs": [
        {
          "output_type": "execute_result",
          "data": {
            "text/plain": [
              "array([[False, False,  True,  True],\n",
              "       [ True,  True,  True,  True],\n",
              "       [ True,  True,  True,  True],\n",
              "       [ True,  True,  True,  True]])"
            ]
          },
          "metadata": {},
          "execution_count": 35
        }
      ]
    },
    {
      "cell_type": "code",
      "source": [
        "print(np.argmax(a4))\n",
        "print(np.argmin(a4))\n",
        "print(np.argsort(a4))\n",
        "print(np.argsort(a4)[::-1])\n",
        "print(np.where(a4>5)[0])\n",
        "print(np.where(a4>=a4[np.argmin(a4)])[0])\n"
      ],
      "metadata": {
        "colab": {
          "base_uri": "https://localhost:8080/"
        },
        "id": "BHuBX7mF-Egb",
        "outputId": "d5990a83-a97d-4150-9176-0da3ae6f4169"
      },
      "execution_count": null,
      "outputs": [
        {
          "output_type": "stream",
          "name": "stdout",
          "text": [
            "15\n",
            "0\n",
            "[[0 1 2 3]\n",
            " [0 1 2 3]\n",
            " [0 1 2 3]\n",
            " [0 1 2 3]]\n",
            "[[0 1 2 3]\n",
            " [0 1 2 3]\n",
            " [0 1 2 3]\n",
            " [0 1 2 3]]\n",
            "[1 1 1 2 2 2 2 3 3 3 3]\n",
            "[0 0 0 0 1 1 1 1 2 2 2 2 3 3 3 3]\n"
          ]
        }
      ]
    },
    {
      "cell_type": "code",
      "source": [
        "a5=[[1,5,3],[6,5,2]]\n",
        "print(np.sort(a5,axis=1,kind='heapsort'))  #0-rows 1-columns\n"
      ],
      "metadata": {
        "colab": {
          "base_uri": "https://localhost:8080/"
        },
        "id": "lgHKYFa4ADBe",
        "outputId": "2abedf5f-58f4-42b2-c4ab-b5df01281a1e"
      },
      "execution_count": null,
      "outputs": [
        {
          "output_type": "stream",
          "name": "stdout",
          "text": [
            "[[1 3 5]\n",
            " [2 5 6]]\n"
          ]
        }
      ]
    },
    {
      "cell_type": "code",
      "source": [
        "%%time\n",
        "x=np.sum(a5)"
      ],
      "metadata": {
        "id": "tvwGStdECets"
      },
      "execution_count": null,
      "outputs": []
    },
    {
      "cell_type": "markdown",
      "source": [
        "addtion,sub,multiplication array should of same size-element wise operations\n",
        " dot product print(v.dot(w)),print(np.dot(v,w)),print(v @w)\n",
        " if one list is present then distirbutionis around col\n",
        " .min(),.max() -axis can also be done.\n",
        " transpose\n",
        " reshaping converting rows into col and vice versa\n",
        " .squeeze()/.reshape(-1)=reomve nested element\n",
        "\n",
        "\n",
        "**BROADCASTING **\n",
        "np.array([1,2,3])+1\n",
        "extends and add\n",
        "\n",
        "** RULES**\n",
        " Rule 1:fewer dim extends\n",
        " Rule 2:1 having dim extends\n",
        " Rule 3:if two dim"
      ],
      "metadata": {
        "id": "dl0PwtkuDOhI"
      }
    },
    {
      "cell_type": "code",
      "source": [],
      "metadata": {
        "id": "KfnEjyOiFaXj"
      },
      "execution_count": null,
      "outputs": []
    },
    {
      "cell_type": "code",
      "execution_count": null,
      "metadata": {
        "id": "PqSh07B7k82q"
      },
      "outputs": [],
      "source": []
    }
  ]
}
