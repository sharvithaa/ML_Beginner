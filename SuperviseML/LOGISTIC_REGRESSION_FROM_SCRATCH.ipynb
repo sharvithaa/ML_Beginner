{
  "nbformat": 4,
  "nbformat_minor": 0,
  "metadata": {
    "colab": {
      "provenance": [],
      "authorship_tag": "ABX9TyOFVlQKknwcAuHhFbBgMRUO",
      "include_colab_link": true
    },
    "kernelspec": {
      "name": "python3",
      "display_name": "Python 3"
    },
    "language_info": {
      "name": "python"
    }
  },
  "cells": [
    {
      "cell_type": "markdown",
      "metadata": {
        "id": "view-in-github",
        "colab_type": "text"
      },
      "source": [
        "<a href=\"https://colab.research.google.com/github/sharvithaa/MLpraticeBYTS/blob/main/LOGISTIC_REGRESSION_FROM_SCRATCH.ipynb\" target=\"_parent\"><img src=\"https://colab.research.google.com/assets/colab-badge.svg\" alt=\"Open In Colab\"/></a>"
      ]
    },
    {
      "cell_type": "code",
      "execution_count": 28,
      "metadata": {
        "id": "uQvGKSCHINPA"
      },
      "outputs": [],
      "source": [
        "import numpy as np\n",
        "import pandas as pd\n",
        "import matplotlib.pyplot as plt"
      ]
    },
    {
      "cell_type": "code",
      "source": [
        "x=np.array([1,2,3,4,5,6,7,8,9,10])\n",
        "y=np.array([0,0,0,0,1,1,1,1,1,1])\n"
      ],
      "metadata": {
        "id": "JxBSG-_TIqwR"
      },
      "execution_count": 29,
      "outputs": []
    },
    {
      "cell_type": "code",
      "source": [
        "#design the sigmoid function\n",
        "def sigmoid(z):\n",
        "  return 1/(1+np.exp(-z))\n"
      ],
      "metadata": {
        "id": "EmeMyzJCJduN"
      },
      "execution_count": 30,
      "outputs": []
    },
    {
      "cell_type": "code",
      "source": [
        "#create desgin matrix\n",
        "x=np.column_stack((np.ones(x.shape[0]),x))"
      ],
      "metadata": {
        "id": "z9KE9gsvKSef"
      },
      "execution_count": 31,
      "outputs": []
    },
    {
      "cell_type": "code",
      "source": [
        "#extract features\n",
        "num_features=x.shape[1]\n",
        "params=np.zeros(num_features)"
      ],
      "metadata": {
        "id": "Sj2PpikFKp6_"
      },
      "execution_count": 32,
      "outputs": []
    },
    {
      "cell_type": "code",
      "source": [
        "#set lr and epochs\n",
        "lr=0.1\n",
        "epochs=10000"
      ],
      "metadata": {
        "id": "9-jhogTHLDS3"
      },
      "execution_count": 33,
      "outputs": []
    },
    {
      "cell_type": "code",
      "source": [
        "#gradient descent\n",
        "for _ in range(epochs):\n",
        "  z=np.dot(x,params) #multiply weights\n",
        "  y_pred=sigmoid(z)  #sigmiod cal\n",
        "  gradient=np.dot(x.T,(y_pred-y))/len(y)  #error cal\n",
        "  params-=lr*gradient  #update params"
      ],
      "metadata": {
        "id": "JIL6xn_PLcwi"
      },
      "execution_count": 34,
      "outputs": []
    },
    {
      "cell_type": "code",
      "source": [
        "x_range=np.linspace(x[:,1].min() - 1,x[:,1].max() + 1,100)\n",
        "y_range=sigmoid(params[0]+params[1] * x_range)"
      ],
      "metadata": {
        "id": "tTT_KBjCMo9v"
      },
      "execution_count": 35,
      "outputs": []
    },
    {
      "cell_type": "code",
      "source": [
        "plt.plot(x_range,y_range,label='LR',color='green')\n",
        "plt.scatter(x[y==0][:,1],y[y==0],label='class 0',color='blue')\n",
        "plt.scatter(x[y==1][:,1],y[y==1],label='class 1',color='red')\n",
        "plt.xlabel('feature')\n",
        "plt.ylabel('prob')\n",
        "plt.legend()\n",
        "plt.grid(True)\n",
        "plt.show()"
      ],
      "metadata": {
        "colab": {
          "base_uri": "https://localhost:8080/",
          "height": 449
        },
        "id": "BG0COJVkN7LF",
        "outputId": "fd258619-baa0-41f2-a8d3-36be84d5b0c5"
      },
      "execution_count": 39,
      "outputs": [
        {
          "output_type": "display_data",
          "data": {
            "text/plain": [
              "<Figure size 640x480 with 1 Axes>"
            ],
            "image/png": "[encoded data removed]"
          },
          "metadata": {}
        }
      ]
    }
  ]
}
